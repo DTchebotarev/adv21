{
 "cells": [
  {
   "cell_type": "markdown",
   "id": "6901c7c8-0e2d-4ccb-847e-bc46a719b4ba",
   "metadata": {},
   "source": [
    "# Day 1 Part 1"
   ]
  },
  {
   "cell_type": "code",
   "execution_count": 12,
   "id": "8b38c274-daec-445a-9a1b-d4668ad1f6e1",
   "metadata": {},
   "outputs": [],
   "source": [
    "with open('day_1_input') as f:\n",
    "    lines = [l.rstrip() for l in f]"
   ]
  },
  {
   "cell_type": "code",
   "execution_count": 15,
   "id": "75705b97-7ac4-41a4-9eae-cf510f4d0019",
   "metadata": {
    "tags": []
   },
   "outputs": [
    {
     "name": "stdout",
     "output_type": "stream",
     "text": [
      "1722\n"
     ]
    }
   ],
   "source": [
    "s = 0 \n",
    "for i in range(1,len(lines)):\n",
    "    if int(lines[i]) > int(lines[i-1]):\n",
    "        s += 1\n",
    "print(s)"
   ]
  },
  {
   "cell_type": "markdown",
   "id": "339d04c7-10ab-4d00-8c64-451f2ed196d2",
   "metadata": {},
   "source": [
    "Day 1 Part 2 (and 1!)"
   ]
  },
  {
   "cell_type": "code",
   "execution_count": 51,
   "id": "f0581299-6d8e-4232-8d92-9de051f7f1f6",
   "metadata": {},
   "outputs": [
    {
     "name": "stdout",
     "output_type": "stream",
     "text": [
      "1722\n",
      "1748\n"
     ]
    }
   ],
   "source": [
    "s = 0\n",
    "def sliding_sum_at_index(i, lag=3):\n",
    "    return sum([int(l) for l in lines[i-lag+1:i+1]]) if len(lines[i-lag+1:i+1]) == lag else None\n",
    "def num_rises(lag):\n",
    "    s = 0\n",
    "    for i in range(lag, len(lines)):\n",
    "        if sliding_sum_at_index(i, lag) > sliding_sum_at_index(i-1, lag):\n",
    "            s += 1\n",
    "    return s\n",
    "print(num_rises(1))\n",
    "print(num_rises(3))"
   ]
  },
  {
   "cell_type": "code",
   "execution_count": null,
   "id": "23c5c748-a174-419d-92e1-afe0f2c92de2",
   "metadata": {},
   "outputs": [],
   "source": []
  }
 ],
 "metadata": {
  "kernelspec": {
   "display_name": "Python 3 (ipykernel)",
   "language": "python",
   "name": "python3"
  },
  "language_info": {
   "codemirror_mode": {
    "name": "ipython",
    "version": 3
   },
   "file_extension": ".py",
   "mimetype": "text/x-python",
   "name": "python",
   "nbconvert_exporter": "python",
   "pygments_lexer": "ipython3",
   "version": "3.10.0"
  }
 },
 "nbformat": 4,
 "nbformat_minor": 5
}
