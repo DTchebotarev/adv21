{
 "cells": [
  {
   "cell_type": "code",
   "execution_count": 1,
   "id": "7c00c795-f60b-464d-aa63-0fe061b31cc2",
   "metadata": {},
   "outputs": [],
   "source": [
    "import numpy as np\n",
    "from tqdm.notebook import tqdm\n",
    "import functools\n",
    "from itertools import combinations"
   ]
  },
  {
   "cell_type": "markdown",
   "id": "6901c7c8-0e2d-4ccb-847e-bc46a719b4ba",
   "metadata": {},
   "source": [
    "# Day 1 Part 1"
   ]
  },
  {
   "cell_type": "code",
   "execution_count": 2,
   "id": "8b38c274-daec-445a-9a1b-d4668ad1f6e1",
   "metadata": {},
   "outputs": [],
   "source": [
    "with open('day_1_input') as f:\n",
    "    lines = [l.rstrip() for l in f]"
   ]
  },
  {
   "cell_type": "code",
   "execution_count": 3,
   "id": "75705b97-7ac4-41a4-9eae-cf510f4d0019",
   "metadata": {
    "tags": []
   },
   "outputs": [
    {
     "name": "stdout",
     "output_type": "stream",
     "text": [
      "1722\n"
     ]
    }
   ],
   "source": [
    "s = 0 \n",
    "for i in range(1,len(lines)):\n",
    "    if int(lines[i]) > int(lines[i-1]):\n",
    "        s += 1\n",
    "print(s)"
   ]
  },
  {
   "cell_type": "markdown",
   "id": "339d04c7-10ab-4d00-8c64-451f2ed196d2",
   "metadata": {},
   "source": [
    "# Day 1 Part 2 (and 1!)"
   ]
  },
  {
   "cell_type": "code",
   "execution_count": 4,
   "id": "f0581299-6d8e-4232-8d92-9de051f7f1f6",
   "metadata": {},
   "outputs": [
    {
     "name": "stdout",
     "output_type": "stream",
     "text": [
      "1722\n",
      "1748\n"
     ]
    }
   ],
   "source": [
    "s = 0\n",
    "def sliding_sum_at_index(i, lag=3):\n",
    "    return sum([int(l) for l in lines[i-lag+1:i+1]]) if len(lines[i-lag+1:i+1]) == lag else None\n",
    "def num_rises(lag):\n",
    "    s = 0\n",
    "    for i in range(lag, len(lines)):\n",
    "        if sliding_sum_at_index(i, lag) > sliding_sum_at_index(i-1, lag):\n",
    "            s += 1\n",
    "    return s\n",
    "print(num_rises(1))\n",
    "print(num_rises(3))"
   ]
  },
  {
   "cell_type": "markdown",
   "id": "1f47e98c-7cd5-4000-bc52-65e4949d4abe",
   "metadata": {},
   "source": [
    "# Day 2 Part 1"
   ]
  },
  {
   "cell_type": "code",
   "execution_count": 5,
   "id": "73a997ed-f817-494f-9649-da0baae8c48e",
   "metadata": {},
   "outputs": [],
   "source": [
    "with open('day_2_input') as f:\n",
    "    lines = [l.rstrip() for l in f]"
   ]
  },
  {
   "cell_type": "code",
   "execution_count": 6,
   "id": "0d040c85-bee1-43ea-9e5c-9bf51872a32d",
   "metadata": {},
   "outputs": [
    {
     "data": {
      "text/plain": [
       "1451208"
      ]
     },
     "execution_count": 6,
     "metadata": {},
     "output_type": "execute_result"
    }
   ],
   "source": [
    "accumulator = {'forward': 0, 'depth': 0}\n",
    "for l in lines:\n",
    "    direction, quantity = l.split()\n",
    "    quantity = int(quantity)\n",
    "    match direction:\n",
    "        case 'forward':\n",
    "            multiplier = 1\n",
    "        case 'up':\n",
    "            multiplier = -1\n",
    "            direction = 'depth'\n",
    "        case 'down':\n",
    "            multiplier = 1\n",
    "            direction = 'depth'\n",
    "    accumulator[direction] += quantity * multiplier\n",
    "accumulator['forward'] * accumulator ['depth']"
   ]
  },
  {
   "cell_type": "markdown",
   "id": "9c2450f4-9dd1-4f18-afac-ffbb007bfbb5",
   "metadata": {},
   "source": [
    "# Day 2 Part 2"
   ]
  },
  {
   "cell_type": "code",
   "execution_count": 7,
   "id": "95b9adcc-7335-4745-a53b-0785053d98d9",
   "metadata": {},
   "outputs": [
    {
     "data": {
      "text/plain": [
       "1620141160"
      ]
     },
     "execution_count": 7,
     "metadata": {},
     "output_type": "execute_result"
    }
   ],
   "source": [
    "accumulator = {'forward': 0, 'depth': 0, 'aim': 0}\n",
    "for l in lines:\n",
    "    direction, quantity = l.split()\n",
    "    quantity = int(quantity)\n",
    "    match direction:\n",
    "        case 'forward':\n",
    "            accumulator['forward'] += quantity\n",
    "            accumulator['depth'] += quantity * accumulator['aim']\n",
    "        case 'up':\n",
    "            accumulator['aim'] += -1 * quantity\n",
    "        case 'down':\n",
    "            accumulator['aim'] += quantity\n",
    "accumulator['forward'] * accumulator ['depth']"
   ]
  },
  {
   "cell_type": "markdown",
   "id": "ee9e8e4b-e11a-4096-866c-2ae1a21baef7",
   "metadata": {},
   "source": [
    "# Day 3 Part 1"
   ]
  },
  {
   "cell_type": "code",
   "execution_count": 8,
   "id": "5fb540f6-8448-48a1-ad35-f34a5bbf9587",
   "metadata": {},
   "outputs": [],
   "source": [
    "with open('day_3_input') as f:\n",
    "    lines = [l.rstrip() for l in f]"
   ]
  },
  {
   "cell_type": "code",
   "execution_count": 9,
   "id": "be3b3394-9fe9-4053-be47-d46c82064d9b",
   "metadata": {},
   "outputs": [
    {
     "data": {
      "text/plain": [
       "775304"
      ]
     },
     "execution_count": 9,
     "metadata": {},
     "output_type": "execute_result"
    }
   ],
   "source": [
    "int(''.join([str(int(sum([int(l[i]) for l in lines])<500)) for i in range(12)]),2) * int(''.join([str(int(sum([int(l[i]) for l in lines])>500)) for i in range(12)]),2)"
   ]
  },
  {
   "cell_type": "markdown",
   "id": "9e764dd6-286d-46bf-b2b9-3a999939f80d",
   "metadata": {},
   "source": [
    "# Day 3 Part 2"
   ]
  },
  {
   "cell_type": "code",
   "execution_count": 10,
   "id": "741b5933-c4ea-4df3-a1e8-922bf595ec65",
   "metadata": {},
   "outputs": [
    {
     "data": {
      "text/plain": [
       "1370737"
      ]
     },
     "execution_count": 10,
     "metadata": {},
     "output_type": "execute_result"
    }
   ],
   "source": [
    "lc = lines.copy()\n",
    "for i in range(12):\n",
    "    lc = [l for l in lc if int(l[i])] if len([l for l in lc if int(l[i])])>=len([l for l in lc if not int(l[i])]) else [l for l in lc if not int(l[i])]\n",
    "    if len(lc) == 1 :\n",
    "        break\n",
    "n1 = int(lc[0],2)\n",
    "lc = lines.copy()\n",
    "for i in range(12):\n",
    "    lc = [l for l in lc if int(l[i])] if len([l for l in lc if int(l[i])])<len([l for l in lc if not int(l[i])]) else [l for l in lc if not int(l[i])]\n",
    "    if len(lc) == 1:\n",
    "        break\n",
    "n2 = int(lc[0],2)\n",
    "n2 * n1"
   ]
  },
  {
   "cell_type": "markdown",
   "id": "0b3ed1a5-5f71-45c3-b57e-7e067b1f6153",
   "metadata": {},
   "source": [
    "# Day 4 Part 1"
   ]
  },
  {
   "cell_type": "code",
   "execution_count": 11,
   "id": "c12d40e4-2fe9-46fe-87cf-22739855ff52",
   "metadata": {},
   "outputs": [],
   "source": [
    "with open('day_4_input') as f:\n",
    "    d4_input = f.read()\n",
    "inputs = d4_input.split('\\n\\n')\n",
    "numbers = inputs.pop(0)\n",
    "boards = inputs"
   ]
  },
  {
   "cell_type": "code",
   "execution_count": 12,
   "id": "e9412c94-b038-49b4-bad4-d117fe192dd3",
   "metadata": {},
   "outputs": [
    {
     "name": "stdout",
     "output_type": "stream",
     "text": [
      "First winner: 58374\n",
      "Last winner: 11377\n"
     ]
    }
   ],
   "source": [
    "def parse_board(board):\n",
    "    num_list = []\n",
    "    for irow, row in enumerate(board.split('\\n')):\n",
    "        for icol, num in enumerate(row.split()):\n",
    "            num_list.append(dict(num=num, irow=irow, icol=icol, marked=False))\n",
    "    return num_list\n",
    "def process_number(board, number):\n",
    "    new_list = []\n",
    "    for val in board:\n",
    "        if val['num'] == number:\n",
    "            new_list.append(dict(num=val['num'], irow=val['irow'], icol=val['icol'], marked=True))\n",
    "        else:\n",
    "            new_list.append(val)\n",
    "    return new_list\n",
    "def check_winning_condition(board):\n",
    "    column_marks = {k:0 for k in range(5)}\n",
    "    row_marks = {k:0 for k in range(5)}\n",
    "    for val in board:\n",
    "        if val['marked']:\n",
    "            column_marks[val['icol']] += 1\n",
    "            row_marks[val['irow']] += 1\n",
    "        if max(column_marks.values()) == 5 or max(row_marks.values()) == 5:\n",
    "            return True\n",
    "def score_board(board, num):\n",
    "    acc = 0\n",
    "    for val in board:\n",
    "        if not val['marked']:\n",
    "            acc += int(val['num'])\n",
    "    return acc * int(num)\n",
    "parsed_boards = [parse_board(b) for b in boards]\n",
    "winner = None\n",
    "winner_declared = False\n",
    "for n in numbers.split(','):\n",
    "    new_parsed_boards = []\n",
    "    for b in parsed_boards:\n",
    "        b = process_number(b, n)\n",
    "        if check_winning_condition(b):\n",
    "            winner = b\n",
    "        else:\n",
    "            new_parsed_boards.append(b)\n",
    "    if winner and not winner_declared:\n",
    "        print('First winner:', score_board(winner, n))\n",
    "        winner_declared = True\n",
    "    if not len(new_parsed_boards):\n",
    "        print('Last winner:', score_board(winner, n))\n",
    "        break\n",
    "    parsed_boards = new_parsed_boards"
   ]
  },
  {
   "cell_type": "markdown",
   "id": "6fdcf48b-6db7-40a7-bc60-8119d6ebef99",
   "metadata": {},
   "source": [
    "# Day 5 part 1"
   ]
  },
  {
   "cell_type": "code",
   "execution_count": 13,
   "id": "4690e38b-3b1b-4671-a097-4cfd93f644a3",
   "metadata": {},
   "outputs": [],
   "source": [
    "with open('day_5_input') as f:\n",
    "    lines = [l.rstrip() for l in f]"
   ]
  },
  {
   "cell_type": "code",
   "execution_count": 14,
   "id": "9907657c-7124-4880-ae0b-b181e71af856",
   "metadata": {},
   "outputs": [
    {
     "data": {
      "text/plain": [
       "7414"
      ]
     },
     "execution_count": 14,
     "metadata": {},
     "output_type": "execute_result"
    }
   ],
   "source": [
    "grid_size = max(list(map(int,sum(sum([list(map(lambda x: x.split(','),l.split(' -> '))) for l in lines],[]),[])))) # I'm lazy\n",
    "\n",
    "points = np.zeros((grid_size + 1,grid_size + 1), dtype=int)\n",
    "\n",
    "class Point():\n",
    "    def __init__(self, x, y):\n",
    "        self.x = x\n",
    "        self.y = y\n",
    "\n",
    "for l in lines:\n",
    "    p1_text, p2_text = l.split(' -> ')\n",
    "    p1 = Point(*map(int, p1_text.split(',')))\n",
    "    p2 = Point(*map(int, p2_text.split(',')))\n",
    "    if p1.x == p2.x:\n",
    "        small_y = min(p1.y, p2.y)\n",
    "        big_y = max(p1.y, p2.y)\n",
    "        for iy in range(small_y, big_y + 1):\n",
    "            points[iy, p1.x] += 1\n",
    "    elif p1.y == p2.y:\n",
    "        small_x = min(p1.x, p2.x)\n",
    "        big_x = max(p1.x, p2.x)\n",
    "        for ix in range(small_x, big_x + 1):\n",
    "            points[p1.y, ix] += 1\n",
    "\n",
    "(points >= 2).sum()"
   ]
  },
  {
   "cell_type": "markdown",
   "id": "e8396236-aa6d-4b5f-bfab-9c37bf1127aa",
   "metadata": {},
   "source": [
    "# Day 5 Part 2"
   ]
  },
  {
   "cell_type": "code",
   "execution_count": 15,
   "id": "b088b677-bfa5-4fcc-b2c0-5955c79cdb48",
   "metadata": {},
   "outputs": [
    {
     "data": {
      "text/plain": [
       "19676"
      ]
     },
     "execution_count": 15,
     "metadata": {},
     "output_type": "execute_result"
    }
   ],
   "source": [
    "for l in lines:\n",
    "    p1_text, p2_text = l.split(' -> ')\n",
    "    p1 = Point(*map(int, p1_text.split(',')))\n",
    "    p2 = Point(*map(int, p2_text.split(',')))\n",
    "    min_x = min(p1.x, p2.x)\n",
    "    min_y = min(p1.y, p2.y)\n",
    "    max_x = max(p1.x, p2.x)\n",
    "    max_y = max(p1.y, p2.y)\n",
    "    if max_x - min_x == max_y - min_y:\n",
    "        x_range = range(min_x, max_x + 1) if p1.x < p2.x else range(max_x, min_x - 1, -1)\n",
    "        y_range = range(min_y, max_y + 1) if p1.y < p2.y else range(max_y, min_y - 1, -1)\n",
    "        for x, y in zip(x_range, y_range):\n",
    "            points[y,x] += 1\n",
    "(points >= 2).sum()           "
   ]
  },
  {
   "cell_type": "markdown",
   "id": "cc2b0f73-4ccd-4ce3-a03e-cc6c049f0738",
   "metadata": {},
   "source": [
    "# Day 6 Part 1"
   ]
  },
  {
   "cell_type": "code",
   "execution_count": 16,
   "id": "a98b10ec-a179-422a-8d15-65c93c814e95",
   "metadata": {},
   "outputs": [
    {
     "data": {
      "application/vnd.jupyter.widget-view+json": {
       "model_id": "b15d288cc4d34f309418b36eca84d4a9",
       "version_major": 2,
       "version_minor": 0
      },
      "text/plain": [
       "  0%|          | 0/80 [00:00<?, ?it/s]"
      ]
     },
     "metadata": {},
     "output_type": "display_data"
    }
   ],
   "source": [
    "initial_state = '3,4,1,1,5,1,3,1,1,3,5,1,1,5,3,2,4,2,2,2,1,1,1,1,5,1,1,1,1,1,3,1,1,5,4,1,1,1,4,1,1,1,1,2,3,2,5,1,5,1,2,1,1,1,4,1,1,1,1,3,1,1,3,1,1,1,1,1,1,2,3,4,2,1,3,1,1,2,1,1,2,1,5,2,1,1,1,1,1,1,4,1,1,1,1,5,1,4,1,1,1,3,3,1,3,1,3,1,4,1,1,1,1,1,4,5,1,1,3,2,2,5,5,4,3,1,2,1,1,1,4,1,3,4,1,1,1,1,2,1,1,3,2,1,1,1,1,1,4,1,1,1,4,4,5,2,1,1,1,1,1,2,4,2,1,1,1,2,1,1,2,1,5,1,5,2,5,5,1,1,3,1,4,1,1,1,1,1,1,1,4,1,1,4,1,1,1,1,1,2,1,2,1,1,1,5,1,1,3,5,1,1,5,5,3,5,3,4,1,1,1,3,1,1,3,1,1,1,1,1,1,5,1,3,1,5,1,1,4,1,3,1,1,1,2,1,1,1,2,1,5,1,1,1,1,4,1,3,2,3,4,1,3,5,3,4,1,4,4,4,1,3,2,4,1,4,1,1,2,1,3,1,5,5,1,5,1,1,1,5,2,1,2,3,1,4,3,3,4,3'\n",
    "fishes = [int(f) for f in initial_state.split(',')]\n",
    "for i in tqdm(range(80)):\n",
    "    num_new_fish = 0\n",
    "    new_fish_list = []\n",
    "    for fish in fishes:\n",
    "        new_fish = fish - 1 if fish > 0 else 6\n",
    "        if fish == 0:\n",
    "            num_new_fish += 1\n",
    "        new_fish_list.append(new_fish)\n",
    "    new_fish_list.extend([8] * num_new_fish)\n",
    "    fishes = new_fish_list"
   ]
  },
  {
   "cell_type": "code",
   "execution_count": 17,
   "id": "046e254c-f464-4d6f-9f0d-d80da6751763",
   "metadata": {},
   "outputs": [
    {
     "data": {
      "text/plain": [
       "379414"
      ]
     },
     "execution_count": 17,
     "metadata": {},
     "output_type": "execute_result"
    }
   ],
   "source": [
    "len(fishes)"
   ]
  },
  {
   "cell_type": "markdown",
   "id": "20db8a64-2309-4005-8afe-5f482471feb9",
   "metadata": {},
   "source": [
    "# Day 6 Part 2"
   ]
  },
  {
   "cell_type": "code",
   "execution_count": 18,
   "id": "47f4b142-7a4a-41fd-8907-9d06cf8cd30e",
   "metadata": {},
   "outputs": [
    {
     "data": {
      "application/vnd.jupyter.widget-view+json": {
       "model_id": "732cfa52221e45ab9a73a568204d667c",
       "version_major": 2,
       "version_minor": 0
      },
      "text/plain": [
       "  0%|          | 0/256 [00:00<?, ?it/s]"
      ]
     },
     "metadata": {},
     "output_type": "display_data"
    },
    {
     "data": {
      "text/plain": [
       "1705008653296"
      ]
     },
     "execution_count": 18,
     "metadata": {},
     "output_type": "execute_result"
    }
   ],
   "source": [
    "initial_state = '3,4,1,1,5,1,3,1,1,3,5,1,1,5,3,2,4,2,2,2,1,1,1,1,5,1,1,1,1,1,3,1,1,5,4,1,1,1,4,1,1,1,1,2,3,2,5,1,5,1,2,1,1,1,4,1,1,1,1,3,1,1,3,1,1,1,1,1,1,2,3,4,2,1,3,1,1,2,1,1,2,1,5,2,1,1,1,1,1,1,4,1,1,1,1,5,1,4,1,1,1,3,3,1,3,1,3,1,4,1,1,1,1,1,4,5,1,1,3,2,2,5,5,4,3,1,2,1,1,1,4,1,3,4,1,1,1,1,2,1,1,3,2,1,1,1,1,1,4,1,1,1,4,4,5,2,1,1,1,1,1,2,4,2,1,1,1,2,1,1,2,1,5,1,5,2,5,5,1,1,3,1,4,1,1,1,1,1,1,1,4,1,1,4,1,1,1,1,1,2,1,2,1,1,1,5,1,1,3,5,1,1,5,5,3,5,3,4,1,1,1,3,1,1,3,1,1,1,1,1,1,5,1,3,1,5,1,1,4,1,3,1,1,1,2,1,1,1,2,1,5,1,1,1,1,4,1,3,2,3,4,1,3,5,3,4,1,4,4,4,1,3,2,4,1,4,1,1,2,1,3,1,5,5,1,5,1,1,1,5,2,1,2,3,1,4,3,3,4,3'\n",
    "fishes = [int(f) for f in initial_state.split(',')]\n",
    "number_fish = {i: 0 for i in range(9)}\n",
    "for f in fishes:\n",
    "    number_fish[f] += 1\n",
    "for i in tqdm(range(256)):\n",
    "    new_number_fish = {i:0 for i in range(9)}\n",
    "    for fish in range(9):\n",
    "        num_fish = number_fish[fish]\n",
    "        new_fish = fish - 1 if fish > 0 else 6\n",
    "        if fish == 0:\n",
    "            num_new_fish = num_fish\n",
    "        new_number_fish[new_fish] += num_fish\n",
    "    new_number_fish[8]  = num_new_fish\n",
    "    number_fish = new_number_fish\n",
    "sum(number_fish.values())"
   ]
  },
  {
   "cell_type": "markdown",
   "id": "028ee493-3b8e-4b3d-9ba2-7b743c478f93",
   "metadata": {},
   "source": [
    "# Day 7 Part 1"
   ]
  },
  {
   "cell_type": "code",
   "execution_count": 19,
   "id": "e073c16e-7dd8-4d98-886e-d44b7bd22bae",
   "metadata": {},
   "outputs": [],
   "source": [
    "positions = '1101,1,29,67,1102,0,1,65,1008,65,35,66,1005,66,28,1,67,65,20,4,0,1001,65,1,65,1106,0,8,99,35,67,101,99,105,32,110,39,101,115,116,32,112,97,115,32,117,110,101,32,105,110,116,99,111,100,101,32,112,114,111,103,114,97,109,10,1174,360,173,61,168,663,15,245,841,35,476,467,1202,235,427,399,230,649,168,1222,444,577,486,877,643,325,22,558,135,1259,917,672,1429,290,592,793,148,272,1654,187,48,120,721,833,298,752,381,45,630,252,706,270,14,132,576,326,908,331,562,207,935,348,1178,1299,33,33,463,4,230,26,289,961,77,306,910,252,1433,14,396,1013,70,18,1066,55,100,627,680,1101,135,443,307,1027,254,1298,48,248,414,416,551,596,407,516,36,39,3,853,1120,257,178,136,5,703,609,595,50,724,1260,266,108,508,287,105,21,188,529,58,429,801,641,689,300,114,1218,603,418,140,73,14,268,1029,767,0,1533,1207,8,396,106,375,602,1,1326,43,94,1097,1,158,717,183,200,36,39,585,727,43,314,468,1011,530,213,1532,242,396,780,204,107,533,1274,250,182,208,145,146,12,511,1091,337,1448,515,603,506,664,37,385,1053,212,1487,151,181,403,1386,803,564,214,93,1072,1140,79,929,798,211,355,197,1056,392,341,515,848,931,70,337,383,1520,780,621,984,1420,439,744,527,1199,65,24,44,1621,202,1468,473,1449,12,446,50,143,36,1133,4,121,62,662,590,655,714,95,203,36,214,90,494,1142,592,978,11,330,734,429,2,5,611,1676,180,11,12,399,410,882,78,177,269,20,820,1122,153,248,929,17,99,149,391,90,168,453,453,87,156,390,44,252,117,739,918,15,1172,1186,80,621,128,1384,47,76,317,55,8,517,608,48,812,156,855,542,374,266,719,276,383,560,106,307,809,900,1706,573,396,92,131,193,90,244,73,65,879,605,289,835,596,471,1277,27,732,103,210,519,623,273,153,157,571,230,341,1289,42,601,448,201,214,225,199,46,266,64,342,673,411,466,77,24,112,180,1144,8,0,415,1099,875,44,703,427,1083,521,132,1598,91,335,1163,262,520,110,465,306,61,354,1159,1251,268,151,143,691,313,5,1533,1287,536,138,75,1147,303,256,163,733,465,551,1437,232,244,64,1132,986,17,591,676,169,318,797,410,96,993,737,88,941,67,1066,543,4,10,569,74,828,296,169,949,145,31,26,274,302,782,568,803,370,76,226,1537,550,461,648,114,738,1025,0,130,1141,50,1056,1332,714,36,27,669,191,216,344,550,104,11,924,6,35,62,391,89,473,146,158,151,74,10,479,65,1,50,35,545,140,1499,109,842,31,223,328,361,15,1021,4,1726,706,89,90,29,599,103,235,10,203,727,1151,14,421,596,134,235,60,1273,2,1693,1263,399,306,928,552,1370,192,451,1478,217,527,1442,32,474,116,1631,495,250,1091,115,1408,123,897,185,1664,127,95,65,1053,677,648,99,1503,488,976,1040,628,1353,1417,190,1303,700,283,11,803,1552,555,1248,179,131,195,580,213,271,224,416,688,33,64,1690,985,214,895,977,29,31,85,177,734,686,1271,72,1012,911,730,758,243,25,1423,492,1202,9,118,14,1553,899,946,1474,352,269,65,28,90,262,137,77,364,607,700,827,716,9,56,1419,998,14,716,397,1425,114,428,838,39,1012,92,259,482,369,62,1080,243,226,1190,844,822,26,800,732,1345,1223,577,1130,120,1152,1522,166,54,19,506,105,436,1110,524,474,1351,643,377,154,473,116,492,537,208,625,47,1415,516,736,1376,772,22,645,112,989,24,1179,935,822,47,203,1432,623,375,153,758,1061,433,86,652,378,49,254,250,665,1248,228,228,616,709,960,1548,465,127,666,254,422,580,419,403,190,677,804,852,1425,638,263,710,7,354,880,1338,42,71,869,276,331,17,785,439,305,122,162,340,1236,163,1214,437,553,200,1121,513,863,253,48,1288,87,225,259,111,426,35,260,433,830,207,184,1788,952,62,647,14,687,679,14,24,693,294,1004,681,66,287,49,152,416,825,175,1307,123,470,393,850,705,10,41,209,328,185,593,148,1312,354,67,189,334,638,1509,302,248,406,1148,537,460,646,661,279,326,1581,959,442,282,48,572,104,450,242,3,703,296,177,217,119,63,354,29,550,889,729,1438,588,371,363,504,5,783,227,61,479,175,227,1331,280,116,79,420,512,46,480,1198,752,19,314,155,635,1326,121,1480,207,1579,597,1147,806,267,67,341,1460,1121,743,597,1004,0,55,1727,127,11,1001,224,31,220,269,173,32,35,818,1049,249,812,62,393,461,414,243,489,512,2,390,121,1106,594,335,665,962,134,255,44,479,1180,351,188,13,732,1116,113,671'\n",
    "positions = [int(p) for p in positions.split(',')]"
   ]
  },
  {
   "cell_type": "code",
   "execution_count": 20,
   "id": "72352bb9-4b46-4a05-b32a-3cdd9e023f63",
   "metadata": {},
   "outputs": [
    {
     "data": {
      "text/plain": [
       "344605"
      ]
     },
     "execution_count": 20,
     "metadata": {},
     "output_type": "execute_result"
    }
   ],
   "source": [
    "min_p = min(positions)\n",
    "max_p = max(positions)\n",
    "fuel_cost_per_position = dict()\n",
    "for i in range(min_p, max_p + 1):\n",
    "    fuel_cost = 0\n",
    "    for p in positions:\n",
    "        fuel_cost += abs(p-i)\n",
    "    fuel_cost_per_position[i] = fuel_cost\n",
    "least_costly_position = min(fuel_cost_per_position, key=fuel_cost_per_position.get)\n",
    "fuel_cost_per_position[least_costly_position]"
   ]
  },
  {
   "cell_type": "markdown",
   "id": "ca20aba5-b4d5-421d-b908-4d1ffbf5ad6f",
   "metadata": {},
   "source": [
    "# Day 7 Part 2"
   ]
  },
  {
   "cell_type": "code",
   "execution_count": 21,
   "id": "7abcf8ef-cb9a-4395-8ba6-3cc34a2510c1",
   "metadata": {},
   "outputs": [
    {
     "data": {
      "text/plain": [
       "93699985"
      ]
     },
     "execution_count": 21,
     "metadata": {},
     "output_type": "execute_result"
    }
   ],
   "source": [
    "@functools.cache\n",
    "def fibsum(i):\n",
    "    if not i:\n",
    "        return 0\n",
    "    else:\n",
    "        return i + fibsum(i-1)\n",
    "min_p = min(positions)\n",
    "max_p = max(positions)\n",
    "fuel_cost_per_position = dict()\n",
    "for i in range(min_p, max_p + 1):\n",
    "    fuel_cost = 0\n",
    "    for p in positions:\n",
    "        fuel_cost += fibsum(abs(p-i))\n",
    "    fuel_cost_per_position[i] = fuel_cost\n",
    "least_costly_position = min(fuel_cost_per_position, key=fuel_cost_per_position.get)\n",
    "fuel_cost_per_position[least_costly_position]"
   ]
  },
  {
   "cell_type": "markdown",
   "id": "5e0a774e-8000-42be-a6a0-6e4b9f644474",
   "metadata": {},
   "source": [
    "# Day 8"
   ]
  },
  {
   "cell_type": "code",
   "execution_count": 22,
   "id": "a7749053-1a41-4d92-a8fd-fb9792699b73",
   "metadata": {},
   "outputs": [],
   "source": [
    "with open('day_8_input') as f:\n",
    "    lines = [l.rstrip() for l in f]"
   ]
  },
  {
   "cell_type": "code",
   "execution_count": 23,
   "id": "3b798d43-280c-4b34-90aa-e70609a741b5",
   "metadata": {},
   "outputs": [
    {
     "data": {
      "text/plain": [
       "476"
      ]
     },
     "execution_count": 23,
     "metadata": {},
     "output_type": "execute_result"
    }
   ],
   "source": [
    "outputs = [l.split(' | ')[1] for l in lines]\n",
    "\n",
    "num_easy = 0\n",
    "for o in outputs:\n",
    "    words = o.split()\n",
    "    for w in words:\n",
    "        match len(w):\n",
    "            case 2:\n",
    "                num_easy += 1\n",
    "            case 3:\n",
    "                num_easy += 1\n",
    "            case 4:\n",
    "                num_easy += 1\n",
    "            case 7:\n",
    "                num_easy += 1\n",
    "num_easy"
   ]
  },
  {
   "cell_type": "markdown",
   "id": "76797fba-d24e-41b9-baf2-a915b98c2e22",
   "metadata": {},
   "source": [
    "# Part 2"
   ]
  },
  {
   "cell_type": "code",
   "execution_count": 24,
   "id": "587f889f-9152-4dc3-8d20-d32d213be869",
   "metadata": {},
   "outputs": [
    {
     "data": {
      "text/plain": [
       "1011823"
      ]
     },
     "execution_count": 24,
     "metadata": {},
     "output_type": "execute_result"
    }
   ],
   "source": [
    "possible_mappings = [(a, b) for a in ['a', 'b', 'c', 'd', 'e', 'f', 'g'] for b in ['a', 'b', 'c', 'd', 'e', 'f', 'g']]\n",
    "\n",
    "legal_digits = [\n",
    "    'abcefg',\n",
    "    'cf',\n",
    "    'acdeg',\n",
    "    'acdfg',\n",
    "    'bcdf',\n",
    "    'abdfg',\n",
    "    'abdefg',\n",
    "    'acf',\n",
    "    'abcdefg',\n",
    "    'abcdfg'\n",
    "]\n",
    "\n",
    "def rule_out_mappings(input_chars, output_chars, mapping):\n",
    "    mapping_copy = []\n",
    "    for m, n in mapping:\n",
    "        if m in input_chars and n not in output_chars:\n",
    "            pass\n",
    "        elif m not in input_chars and n in output_chars:\n",
    "            pass\n",
    "        else:\n",
    "            mapping_copy.append((m,n))\n",
    "    return mapping_copy\n",
    "\n",
    "def generate_set_from_mappings(mapping):\n",
    "    for c in combinations(mapping, 7):\n",
    "        yield c\n",
    "\n",
    "def translate_word_with_mapping(mapping, word):\n",
    "    new_word = ''\n",
    "    for ch in word:\n",
    "        found_map = [f for f in mapping if f[0] == ch][0][1]\n",
    "        new_word += found_map\n",
    "    return new_word\n",
    "\n",
    "def is_legal_candidate(mapping):\n",
    "    inputs = [a[0] for a in mapping]\n",
    "    outputs = [a[1] for a in mapping]\n",
    "    return sorted(inputs) == ['a', 'b', 'c', 'd', 'e', 'f', 'g'] and sorted(outputs) == ['a', 'b', 'c', 'd', 'e', 'f', 'g']\n",
    "\n",
    "accumulator = 0\n",
    "for l in lines:\n",
    "    possible_mappings_this_line = possible_mappings.copy()\n",
    "    line_input, line_output = l.split(' | ')\n",
    "    for w in line_input.split():\n",
    "        match len(w):\n",
    "            case 2:\n",
    "                possible_mappings_this_line = rule_out_mappings(w, 'cf', possible_mappings_this_line)\n",
    "            case 3:\n",
    "                possible_mappings_this_line = rule_out_mappings(w, 'acf', possible_mappings_this_line)\n",
    "            case 4:\n",
    "                possible_mappings_this_line = rule_out_mappings(w, 'bcdf', possible_mappings_this_line)\n",
    "    for candidate in generate_set_from_mappings(possible_mappings_this_line):\n",
    "        if not is_legal_candidate(candidate):\n",
    "            continue\n",
    "        illegal_word_found = False\n",
    "        for w in line_input.split():\n",
    "            try:\n",
    "                new_word = ''.join(sorted(translate_word_with_mapping(candidate, w)))\n",
    "            except:\n",
    "                illegal_word_found = True\n",
    "            if new_word not in legal_digits:\n",
    "                illegal_word_found = True\n",
    "        if not illegal_word_found:\n",
    "            found_candidate = candidate\n",
    "    for i, word in enumerate(line_output.split()):\n",
    "        new_word = ''.join(sorted(translate_word_with_mapping(found_candidate, word)))\n",
    "        magnitude = 10 ** (3-i)\n",
    "        accumulator += magnitude * legal_digits.index(new_word)\n",
    "accumulator"
   ]
  },
  {
   "cell_type": "code",
   "execution_count": null,
   "id": "2c4f8f93-5dc4-4c3b-98d4-385077a1b3ab",
   "metadata": {},
   "outputs": [],
   "source": []
  }
 ],
 "metadata": {
  "kernelspec": {
   "display_name": "Python 3 (ipykernel)",
   "language": "python",
   "name": "python3"
  },
  "language_info": {
   "codemirror_mode": {
    "name": "ipython",
    "version": 3
   },
   "file_extension": ".py",
   "mimetype": "text/x-python",
   "name": "python",
   "nbconvert_exporter": "python",
   "pygments_lexer": "ipython3",
   "version": "3.10.0"
  }
 },
 "nbformat": 4,
 "nbformat_minor": 5
}
