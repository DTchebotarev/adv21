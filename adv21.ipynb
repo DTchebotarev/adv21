{
 "cells": [
  {
   "cell_type": "code",
   "execution_count": 1,
   "id": "7c00c795-f60b-464d-aa63-0fe061b31cc2",
   "metadata": {},
   "outputs": [],
   "source": [
    "import numpy as np\n",
    "from tqdm.notebook import tqdm"
   ]
  },
  {
   "cell_type": "markdown",
   "id": "6901c7c8-0e2d-4ccb-847e-bc46a719b4ba",
   "metadata": {},
   "source": [
    "# Day 1 Part 1"
   ]
  },
  {
   "cell_type": "code",
   "execution_count": 2,
   "id": "8b38c274-daec-445a-9a1b-d4668ad1f6e1",
   "metadata": {},
   "outputs": [],
   "source": [
    "with open('day_1_input') as f:\n",
    "    lines = [l.rstrip() for l in f]"
   ]
  },
  {
   "cell_type": "code",
   "execution_count": 3,
   "id": "75705b97-7ac4-41a4-9eae-cf510f4d0019",
   "metadata": {
    "tags": []
   },
   "outputs": [
    {
     "name": "stdout",
     "output_type": "stream",
     "text": [
      "1722\n"
     ]
    }
   ],
   "source": [
    "s = 0 \n",
    "for i in range(1,len(lines)):\n",
    "    if int(lines[i]) > int(lines[i-1]):\n",
    "        s += 1\n",
    "print(s)"
   ]
  },
  {
   "cell_type": "markdown",
   "id": "339d04c7-10ab-4d00-8c64-451f2ed196d2",
   "metadata": {},
   "source": [
    "# Day 1 Part 2 (and 1!)"
   ]
  },
  {
   "cell_type": "code",
   "execution_count": 4,
   "id": "f0581299-6d8e-4232-8d92-9de051f7f1f6",
   "metadata": {},
   "outputs": [
    {
     "name": "stdout",
     "output_type": "stream",
     "text": [
      "1722\n",
      "1748\n"
     ]
    }
   ],
   "source": [
    "s = 0\n",
    "def sliding_sum_at_index(i, lag=3):\n",
    "    return sum([int(l) for l in lines[i-lag+1:i+1]]) if len(lines[i-lag+1:i+1]) == lag else None\n",
    "def num_rises(lag):\n",
    "    s = 0\n",
    "    for i in range(lag, len(lines)):\n",
    "        if sliding_sum_at_index(i, lag) > sliding_sum_at_index(i-1, lag):\n",
    "            s += 1\n",
    "    return s\n",
    "print(num_rises(1))\n",
    "print(num_rises(3))"
   ]
  },
  {
   "cell_type": "markdown",
   "id": "1f47e98c-7cd5-4000-bc52-65e4949d4abe",
   "metadata": {},
   "source": [
    "# Day 2 Part 1"
   ]
  },
  {
   "cell_type": "code",
   "execution_count": 5,
   "id": "73a997ed-f817-494f-9649-da0baae8c48e",
   "metadata": {},
   "outputs": [],
   "source": [
    "with open('day_2_input') as f:\n",
    "    lines = [l.rstrip() for l in f]"
   ]
  },
  {
   "cell_type": "code",
   "execution_count": 6,
   "id": "0d040c85-bee1-43ea-9e5c-9bf51872a32d",
   "metadata": {},
   "outputs": [
    {
     "data": {
      "text/plain": [
       "1451208"
      ]
     },
     "execution_count": 6,
     "metadata": {},
     "output_type": "execute_result"
    }
   ],
   "source": [
    "accumulator = {'forward': 0, 'depth': 0}\n",
    "for l in lines:\n",
    "    direction, quantity = l.split()\n",
    "    quantity = int(quantity)\n",
    "    match direction:\n",
    "        case 'forward':\n",
    "            multiplier = 1\n",
    "        case 'up':\n",
    "            multiplier = -1\n",
    "            direction = 'depth'\n",
    "        case 'down':\n",
    "            multiplier = 1\n",
    "            direction = 'depth'\n",
    "    accumulator[direction] += quantity * multiplier\n",
    "accumulator['forward'] * accumulator ['depth']"
   ]
  },
  {
   "cell_type": "markdown",
   "id": "9c2450f4-9dd1-4f18-afac-ffbb007bfbb5",
   "metadata": {},
   "source": [
    "# Day 2 Part 2"
   ]
  },
  {
   "cell_type": "code",
   "execution_count": 7,
   "id": "95b9adcc-7335-4745-a53b-0785053d98d9",
   "metadata": {},
   "outputs": [
    {
     "data": {
      "text/plain": [
       "1620141160"
      ]
     },
     "execution_count": 7,
     "metadata": {},
     "output_type": "execute_result"
    }
   ],
   "source": [
    "accumulator = {'forward': 0, 'depth': 0, 'aim': 0}\n",
    "for l in lines:\n",
    "    direction, quantity = l.split()\n",
    "    quantity = int(quantity)\n",
    "    match direction:\n",
    "        case 'forward':\n",
    "            accumulator['forward'] += quantity\n",
    "            accumulator['depth'] += quantity * accumulator['aim']\n",
    "        case 'up':\n",
    "            accumulator['aim'] += -1 * quantity\n",
    "        case 'down':\n",
    "            accumulator['aim'] += quantity\n",
    "accumulator['forward'] * accumulator ['depth']"
   ]
  },
  {
   "cell_type": "markdown",
   "id": "ee9e8e4b-e11a-4096-866c-2ae1a21baef7",
   "metadata": {},
   "source": [
    "# Day 3 Part 1"
   ]
  },
  {
   "cell_type": "code",
   "execution_count": 8,
   "id": "5fb540f6-8448-48a1-ad35-f34a5bbf9587",
   "metadata": {},
   "outputs": [],
   "source": [
    "with open('day_3_input') as f:\n",
    "    lines = [l.rstrip() for l in f]"
   ]
  },
  {
   "cell_type": "code",
   "execution_count": 9,
   "id": "be3b3394-9fe9-4053-be47-d46c82064d9b",
   "metadata": {},
   "outputs": [
    {
     "data": {
      "text/plain": [
       "775304"
      ]
     },
     "execution_count": 9,
     "metadata": {},
     "output_type": "execute_result"
    }
   ],
   "source": [
    "int(''.join([str(int(sum([int(l[i]) for l in lines])<500)) for i in range(12)]),2) * int(''.join([str(int(sum([int(l[i]) for l in lines])>500)) for i in range(12)]),2)"
   ]
  },
  {
   "cell_type": "markdown",
   "id": "9e764dd6-286d-46bf-b2b9-3a999939f80d",
   "metadata": {},
   "source": [
    "# Day 3 Part 2"
   ]
  },
  {
   "cell_type": "code",
   "execution_count": 10,
   "id": "741b5933-c4ea-4df3-a1e8-922bf595ec65",
   "metadata": {},
   "outputs": [
    {
     "data": {
      "text/plain": [
       "1370737"
      ]
     },
     "execution_count": 10,
     "metadata": {},
     "output_type": "execute_result"
    }
   ],
   "source": [
    "lc = lines.copy()\n",
    "for i in range(12):\n",
    "    lc = [l for l in lc if int(l[i])] if len([l for l in lc if int(l[i])])>=len([l for l in lc if not int(l[i])]) else [l for l in lc if not int(l[i])]\n",
    "    if len(lc) == 1 :\n",
    "        break\n",
    "n1 = int(lc[0],2)\n",
    "lc = lines.copy()\n",
    "for i in range(12):\n",
    "    lc = [l for l in lc if int(l[i])] if len([l for l in lc if int(l[i])])<len([l for l in lc if not int(l[i])]) else [l for l in lc if not int(l[i])]\n",
    "    if len(lc) == 1:\n",
    "        break\n",
    "n2 = int(lc[0],2)\n",
    "n2 * n1"
   ]
  },
  {
   "cell_type": "markdown",
   "id": "0b3ed1a5-5f71-45c3-b57e-7e067b1f6153",
   "metadata": {},
   "source": [
    "# Day 4 Part 1"
   ]
  },
  {
   "cell_type": "code",
   "execution_count": 11,
   "id": "c12d40e4-2fe9-46fe-87cf-22739855ff52",
   "metadata": {},
   "outputs": [],
   "source": [
    "with open('day_4_input') as f:\n",
    "    d4_input = f.read()\n",
    "inputs = d4_input.split('\\n\\n')\n",
    "numbers = inputs.pop(0)\n",
    "boards = inputs"
   ]
  },
  {
   "cell_type": "code",
   "execution_count": 12,
   "id": "e9412c94-b038-49b4-bad4-d117fe192dd3",
   "metadata": {},
   "outputs": [
    {
     "name": "stdout",
     "output_type": "stream",
     "text": [
      "First winner: 58374\n",
      "Last winner: 11377\n"
     ]
    }
   ],
   "source": [
    "def parse_board(board):\n",
    "    num_list = []\n",
    "    for irow, row in enumerate(board.split('\\n')):\n",
    "        for icol, num in enumerate(row.split()):\n",
    "            num_list.append(dict(num=num, irow=irow, icol=icol, marked=False))\n",
    "    return num_list\n",
    "def process_number(board, number):\n",
    "    new_list = []\n",
    "    for val in board:\n",
    "        if val['num'] == number:\n",
    "            new_list.append(dict(num=val['num'], irow=val['irow'], icol=val['icol'], marked=True))\n",
    "        else:\n",
    "            new_list.append(val)\n",
    "    return new_list\n",
    "def check_winning_condition(board):\n",
    "    column_marks = {k:0 for k in range(5)}\n",
    "    row_marks = {k:0 for k in range(5)}\n",
    "    for val in board:\n",
    "        if val['marked']:\n",
    "            column_marks[val['icol']] += 1\n",
    "            row_marks[val['irow']] += 1\n",
    "        if max(column_marks.values()) == 5 or max(row_marks.values()) == 5:\n",
    "            return True\n",
    "def score_board(board, num):\n",
    "    acc = 0\n",
    "    for val in board:\n",
    "        if not val['marked']:\n",
    "            acc += int(val['num'])\n",
    "    return acc * int(num)\n",
    "parsed_boards = [parse_board(b) for b in boards]\n",
    "winner = None\n",
    "winner_declared = False\n",
    "for n in numbers.split(','):\n",
    "    new_parsed_boards = []\n",
    "    for b in parsed_boards:\n",
    "        b = process_number(b, n)\n",
    "        if check_winning_condition(b):\n",
    "            winner = b\n",
    "        else:\n",
    "            new_parsed_boards.append(b)\n",
    "    if winner and not winner_declared:\n",
    "        print('First winner:', score_board(winner, n))\n",
    "        winner_declared = True\n",
    "    if not len(new_parsed_boards):\n",
    "        print('Last winner:', score_board(winner, n))\n",
    "        break\n",
    "    parsed_boards = new_parsed_boards"
   ]
  },
  {
   "cell_type": "markdown",
   "id": "6fdcf48b-6db7-40a7-bc60-8119d6ebef99",
   "metadata": {},
   "source": [
    "# Day 5 part 1"
   ]
  },
  {
   "cell_type": "code",
   "execution_count": 13,
   "id": "4690e38b-3b1b-4671-a097-4cfd93f644a3",
   "metadata": {},
   "outputs": [],
   "source": [
    "with open('day_5_input') as f:\n",
    "    lines = [l.rstrip() for l in f]"
   ]
  },
  {
   "cell_type": "code",
   "execution_count": 14,
   "id": "9907657c-7124-4880-ae0b-b181e71af856",
   "metadata": {},
   "outputs": [
    {
     "data": {
      "text/plain": [
       "7414"
      ]
     },
     "execution_count": 14,
     "metadata": {},
     "output_type": "execute_result"
    }
   ],
   "source": [
    "grid_size = max(list(map(int,sum(sum([list(map(lambda x: x.split(','),l.split(' -> '))) for l in lines],[]),[])))) # I'm lazy\n",
    "\n",
    "points = np.zeros((grid_size + 1,grid_size + 1), dtype=int)\n",
    "\n",
    "class Point():\n",
    "    def __init__(self, x, y):\n",
    "        self.x = x\n",
    "        self.y = y\n",
    "\n",
    "for l in lines:\n",
    "    p1_text, p2_text = l.split(' -> ')\n",
    "    p1 = Point(*map(int, p1_text.split(',')))\n",
    "    p2 = Point(*map(int, p2_text.split(',')))\n",
    "    if p1.x == p2.x:\n",
    "        small_y = min(p1.y, p2.y)\n",
    "        big_y = max(p1.y, p2.y)\n",
    "        for iy in range(small_y, big_y + 1):\n",
    "            points[iy, p1.x] += 1\n",
    "    elif p1.y == p2.y:\n",
    "        small_x = min(p1.x, p2.x)\n",
    "        big_x = max(p1.x, p2.x)\n",
    "        for ix in range(small_x, big_x + 1):\n",
    "            points[p1.y, ix] += 1\n",
    "\n",
    "(points >= 2).sum()"
   ]
  },
  {
   "cell_type": "markdown",
   "id": "e8396236-aa6d-4b5f-bfab-9c37bf1127aa",
   "metadata": {},
   "source": [
    "# Day 5 Part 2"
   ]
  },
  {
   "cell_type": "code",
   "execution_count": 15,
   "id": "b088b677-bfa5-4fcc-b2c0-5955c79cdb48",
   "metadata": {},
   "outputs": [
    {
     "data": {
      "text/plain": [
       "19676"
      ]
     },
     "execution_count": 15,
     "metadata": {},
     "output_type": "execute_result"
    }
   ],
   "source": [
    "for l in lines:\n",
    "    p1_text, p2_text = l.split(' -> ')\n",
    "    p1 = Point(*map(int, p1_text.split(',')))\n",
    "    p2 = Point(*map(int, p2_text.split(',')))\n",
    "    min_x = min(p1.x, p2.x)\n",
    "    min_y = min(p1.y, p2.y)\n",
    "    max_x = max(p1.x, p2.x)\n",
    "    max_y = max(p1.y, p2.y)\n",
    "    if max_x - min_x == max_y - min_y:\n",
    "        x_range = range(min_x, max_x + 1) if p1.x < p2.x else range(max_x, min_x - 1, -1)\n",
    "        y_range = range(min_y, max_y + 1) if p1.y < p2.y else range(max_y, min_y - 1, -1)\n",
    "        for x, y in zip(x_range, y_range):\n",
    "            points[y,x] += 1\n",
    "(points >= 2).sum()           "
   ]
  },
  {
   "cell_type": "markdown",
   "id": "cc2b0f73-4ccd-4ce3-a03e-cc6c049f0738",
   "metadata": {},
   "source": [
    "# Day 6 Part 1"
   ]
  },
  {
   "cell_type": "code",
   "execution_count": 16,
   "id": "a98b10ec-a179-422a-8d15-65c93c814e95",
   "metadata": {},
   "outputs": [
    {
     "data": {
      "application/vnd.jupyter.widget-view+json": {
       "model_id": "814af3f5d11b4beeaa3a9ce18b30443d",
       "version_major": 2,
       "version_minor": 0
      },
      "text/plain": [
       "  0%|          | 0/80 [00:00<?, ?it/s]"
      ]
     },
     "metadata": {},
     "output_type": "display_data"
    }
   ],
   "source": [
    "initial_state = '3,4,1,1,5,1,3,1,1,3,5,1,1,5,3,2,4,2,2,2,1,1,1,1,5,1,1,1,1,1,3,1,1,5,4,1,1,1,4,1,1,1,1,2,3,2,5,1,5,1,2,1,1,1,4,1,1,1,1,3,1,1,3,1,1,1,1,1,1,2,3,4,2,1,3,1,1,2,1,1,2,1,5,2,1,1,1,1,1,1,4,1,1,1,1,5,1,4,1,1,1,3,3,1,3,1,3,1,4,1,1,1,1,1,4,5,1,1,3,2,2,5,5,4,3,1,2,1,1,1,4,1,3,4,1,1,1,1,2,1,1,3,2,1,1,1,1,1,4,1,1,1,4,4,5,2,1,1,1,1,1,2,4,2,1,1,1,2,1,1,2,1,5,1,5,2,5,5,1,1,3,1,4,1,1,1,1,1,1,1,4,1,1,4,1,1,1,1,1,2,1,2,1,1,1,5,1,1,3,5,1,1,5,5,3,5,3,4,1,1,1,3,1,1,3,1,1,1,1,1,1,5,1,3,1,5,1,1,4,1,3,1,1,1,2,1,1,1,2,1,5,1,1,1,1,4,1,3,2,3,4,1,3,5,3,4,1,4,4,4,1,3,2,4,1,4,1,1,2,1,3,1,5,5,1,5,1,1,1,5,2,1,2,3,1,4,3,3,4,3'\n",
    "fishes = [int(f) for f in initial_state.split(',')]\n",
    "for i in tqdm(range(80)):\n",
    "    num_new_fish = 0\n",
    "    new_fish_list = []\n",
    "    for fish in fishes:\n",
    "        new_fish = fish - 1 if fish > 0 else 6\n",
    "        if fish == 0:\n",
    "            num_new_fish += 1\n",
    "        new_fish_list.append(new_fish)\n",
    "    new_fish_list.extend([8] * num_new_fish)\n",
    "    fishes = new_fish_list"
   ]
  },
  {
   "cell_type": "code",
   "execution_count": 17,
   "id": "046e254c-f464-4d6f-9f0d-d80da6751763",
   "metadata": {},
   "outputs": [
    {
     "data": {
      "text/plain": [
       "379414"
      ]
     },
     "execution_count": 17,
     "metadata": {},
     "output_type": "execute_result"
    }
   ],
   "source": [
    "len(fishes)"
   ]
  },
  {
   "cell_type": "markdown",
   "id": "20db8a64-2309-4005-8afe-5f482471feb9",
   "metadata": {},
   "source": [
    "# Day 6 Part 2"
   ]
  },
  {
   "cell_type": "code",
   "execution_count": 18,
   "id": "47f4b142-7a4a-41fd-8907-9d06cf8cd30e",
   "metadata": {},
   "outputs": [
    {
     "data": {
      "application/vnd.jupyter.widget-view+json": {
       "model_id": "20179af850704cd89c222b029fc7f937",
       "version_major": 2,
       "version_minor": 0
      },
      "text/plain": [
       "  0%|          | 0/256 [00:00<?, ?it/s]"
      ]
     },
     "metadata": {},
     "output_type": "display_data"
    },
    {
     "data": {
      "text/plain": [
       "1705008653296"
      ]
     },
     "execution_count": 18,
     "metadata": {},
     "output_type": "execute_result"
    }
   ],
   "source": [
    "initial_state = '3,4,1,1,5,1,3,1,1,3,5,1,1,5,3,2,4,2,2,2,1,1,1,1,5,1,1,1,1,1,3,1,1,5,4,1,1,1,4,1,1,1,1,2,3,2,5,1,5,1,2,1,1,1,4,1,1,1,1,3,1,1,3,1,1,1,1,1,1,2,3,4,2,1,3,1,1,2,1,1,2,1,5,2,1,1,1,1,1,1,4,1,1,1,1,5,1,4,1,1,1,3,3,1,3,1,3,1,4,1,1,1,1,1,4,5,1,1,3,2,2,5,5,4,3,1,2,1,1,1,4,1,3,4,1,1,1,1,2,1,1,3,2,1,1,1,1,1,4,1,1,1,4,4,5,2,1,1,1,1,1,2,4,2,1,1,1,2,1,1,2,1,5,1,5,2,5,5,1,1,3,1,4,1,1,1,1,1,1,1,4,1,1,4,1,1,1,1,1,2,1,2,1,1,1,5,1,1,3,5,1,1,5,5,3,5,3,4,1,1,1,3,1,1,3,1,1,1,1,1,1,5,1,3,1,5,1,1,4,1,3,1,1,1,2,1,1,1,2,1,5,1,1,1,1,4,1,3,2,3,4,1,3,5,3,4,1,4,4,4,1,3,2,4,1,4,1,1,2,1,3,1,5,5,1,5,1,1,1,5,2,1,2,3,1,4,3,3,4,3'\n",
    "fishes = [int(f) for f in initial_state.split(',')]\n",
    "number_fish = {i: 0 for i in range(9)}\n",
    "for f in fishes:\n",
    "    number_fish[f] += 1\n",
    "for i in tqdm(range(256)):\n",
    "    new_number_fish = {i:0 for i in range(9)}\n",
    "    for fish in range(9):\n",
    "        num_fish = number_fish[fish]\n",
    "        new_fish = fish - 1 if fish > 0 else 6\n",
    "        if fish == 0:\n",
    "            num_new_fish = num_fish\n",
    "        new_number_fish[new_fish] += num_fish\n",
    "    new_number_fish[8]  = num_new_fish\n",
    "    number_fish = new_number_fish\n",
    "sum(number_fish.values())"
   ]
  },
  {
   "cell_type": "code",
   "execution_count": null,
   "id": "16de8971-ab02-4685-ada3-72cac62b0645",
   "metadata": {},
   "outputs": [],
   "source": []
  }
 ],
 "metadata": {
  "kernelspec": {
   "display_name": "Python 3 (ipykernel)",
   "language": "python",
   "name": "python3"
  },
  "language_info": {
   "codemirror_mode": {
    "name": "ipython",
    "version": 3
   },
   "file_extension": ".py",
   "mimetype": "text/x-python",
   "name": "python",
   "nbconvert_exporter": "python",
   "pygments_lexer": "ipython3",
   "version": "3.10.0"
  }
 },
 "nbformat": 4,
 "nbformat_minor": 5
}
