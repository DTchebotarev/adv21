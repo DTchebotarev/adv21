{
 "cells": [
  {
   "cell_type": "markdown",
   "id": "6901c7c8-0e2d-4ccb-847e-bc46a719b4ba",
   "metadata": {},
   "source": [
    "# Day 1 Part 1"
   ]
  },
  {
   "cell_type": "code",
   "execution_count": 1,
   "id": "8b38c274-daec-445a-9a1b-d4668ad1f6e1",
   "metadata": {},
   "outputs": [],
   "source": [
    "with open('day_1_input') as f:\n",
    "    lines = [l.rstrip() for l in f]"
   ]
  },
  {
   "cell_type": "code",
   "execution_count": 2,
   "id": "75705b97-7ac4-41a4-9eae-cf510f4d0019",
   "metadata": {
    "tags": []
   },
   "outputs": [
    {
     "name": "stdout",
     "output_type": "stream",
     "text": [
      "1722\n"
     ]
    }
   ],
   "source": [
    "s = 0 \n",
    "for i in range(1,len(lines)):\n",
    "    if int(lines[i]) > int(lines[i-1]):\n",
    "        s += 1\n",
    "print(s)"
   ]
  },
  {
   "cell_type": "markdown",
   "id": "339d04c7-10ab-4d00-8c64-451f2ed196d2",
   "metadata": {},
   "source": [
    "# Day 1 Part 2 (and 1!)"
   ]
  },
  {
   "cell_type": "code",
   "execution_count": 3,
   "id": "f0581299-6d8e-4232-8d92-9de051f7f1f6",
   "metadata": {},
   "outputs": [
    {
     "name": "stdout",
     "output_type": "stream",
     "text": [
      "1722\n",
      "1748\n"
     ]
    }
   ],
   "source": [
    "s = 0\n",
    "def sliding_sum_at_index(i, lag=3):\n",
    "    return sum([int(l) for l in lines[i-lag+1:i+1]]) if len(lines[i-lag+1:i+1]) == lag else None\n",
    "def num_rises(lag):\n",
    "    s = 0\n",
    "    for i in range(lag, len(lines)):\n",
    "        if sliding_sum_at_index(i, lag) > sliding_sum_at_index(i-1, lag):\n",
    "            s += 1\n",
    "    return s\n",
    "print(num_rises(1))\n",
    "print(num_rises(3))"
   ]
  },
  {
   "cell_type": "markdown",
   "id": "1f47e98c-7cd5-4000-bc52-65e4949d4abe",
   "metadata": {},
   "source": [
    "# Day 2 Part 1"
   ]
  },
  {
   "cell_type": "code",
   "execution_count": 4,
   "id": "73a997ed-f817-494f-9649-da0baae8c48e",
   "metadata": {},
   "outputs": [],
   "source": [
    "with open('day_2_input') as f:\n",
    "    lines = [l.rstrip() for l in f]"
   ]
  },
  {
   "cell_type": "code",
   "execution_count": 5,
   "id": "0d040c85-bee1-43ea-9e5c-9bf51872a32d",
   "metadata": {},
   "outputs": [
    {
     "data": {
      "text/plain": [
       "1451208"
      ]
     },
     "execution_count": 5,
     "metadata": {},
     "output_type": "execute_result"
    }
   ],
   "source": [
    "accumulator = {'forward': 0, 'depth': 0}\n",
    "for l in lines:\n",
    "    direction, quantity = l.split()\n",
    "    quantity = int(quantity)\n",
    "    match direction:\n",
    "        case 'forward':\n",
    "            multiplier = 1\n",
    "        case 'up':\n",
    "            multiplier = -1\n",
    "            direction = 'depth'\n",
    "        case 'down':\n",
    "            multiplier = 1\n",
    "            direction = 'depth'\n",
    "    accumulator[direction] += quantity * multiplier\n",
    "accumulator['forward'] * accumulator ['depth']"
   ]
  },
  {
   "cell_type": "markdown",
   "id": "9c2450f4-9dd1-4f18-afac-ffbb007bfbb5",
   "metadata": {},
   "source": [
    "# Day 2 Part 2"
   ]
  },
  {
   "cell_type": "code",
   "execution_count": 6,
   "id": "95b9adcc-7335-4745-a53b-0785053d98d9",
   "metadata": {},
   "outputs": [
    {
     "data": {
      "text/plain": [
       "1620141160"
      ]
     },
     "execution_count": 6,
     "metadata": {},
     "output_type": "execute_result"
    }
   ],
   "source": [
    "accumulator = {'forward': 0, 'depth': 0, 'aim': 0}\n",
    "for l in lines:\n",
    "    direction, quantity = l.split()\n",
    "    quantity = int(quantity)\n",
    "    match direction:\n",
    "        case 'forward':\n",
    "            accumulator['forward'] += quantity\n",
    "            accumulator['depth'] += quantity * accumulator['aim']\n",
    "        case 'up':\n",
    "            accumulator['aim'] += -1 * quantity\n",
    "        case 'down':\n",
    "            accumulator['aim'] += quantity\n",
    "accumulator['forward'] * accumulator ['depth']"
   ]
  },
  {
   "cell_type": "code",
   "execution_count": null,
   "id": "7ed8908a-927b-47de-8e21-d07710910740",
   "metadata": {},
   "outputs": [],
   "source": []
  }
 ],
 "metadata": {
  "kernelspec": {
   "display_name": "Python 3 (ipykernel)",
   "language": "python",
   "name": "python3"
  },
  "language_info": {
   "codemirror_mode": {
    "name": "ipython",
    "version": 3
   },
   "file_extension": ".py",
   "mimetype": "text/x-python",
   "name": "python",
   "nbconvert_exporter": "python",
   "pygments_lexer": "ipython3",
   "version": "3.10.0"
  }
 },
 "nbformat": 4,
 "nbformat_minor": 5
}
