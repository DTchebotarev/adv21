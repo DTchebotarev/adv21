{
 "cells": [
  {
   "cell_type": "markdown",
   "id": "6901c7c8-0e2d-4ccb-847e-bc46a719b4ba",
   "metadata": {},
   "source": [
    "# Day 1 Part 1"
   ]
  },
  {
   "cell_type": "code",
   "execution_count": 1,
   "id": "8b38c274-daec-445a-9a1b-d4668ad1f6e1",
   "metadata": {},
   "outputs": [],
   "source": [
    "with open('day_1_input') as f:\n",
    "    lines = [l.rstrip() for l in f]"
   ]
  },
  {
   "cell_type": "code",
   "execution_count": 2,
   "id": "75705b97-7ac4-41a4-9eae-cf510f4d0019",
   "metadata": {
    "tags": []
   },
   "outputs": [
    {
     "name": "stdout",
     "output_type": "stream",
     "text": [
      "1722\n"
     ]
    }
   ],
   "source": [
    "s = 0 \n",
    "for i in range(1,len(lines)):\n",
    "    if int(lines[i]) > int(lines[i-1]):\n",
    "        s += 1\n",
    "print(s)"
   ]
  },
  {
   "cell_type": "markdown",
   "id": "339d04c7-10ab-4d00-8c64-451f2ed196d2",
   "metadata": {},
   "source": [
    "# Day 1 Part 2 (and 1!)"
   ]
  },
  {
   "cell_type": "code",
   "execution_count": 3,
   "id": "f0581299-6d8e-4232-8d92-9de051f7f1f6",
   "metadata": {},
   "outputs": [
    {
     "name": "stdout",
     "output_type": "stream",
     "text": [
      "1722\n",
      "1748\n"
     ]
    }
   ],
   "source": [
    "s = 0\n",
    "def sliding_sum_at_index(i, lag=3):\n",
    "    return sum([int(l) for l in lines[i-lag+1:i+1]]) if len(lines[i-lag+1:i+1]) == lag else None\n",
    "def num_rises(lag):\n",
    "    s = 0\n",
    "    for i in range(lag, len(lines)):\n",
    "        if sliding_sum_at_index(i, lag) > sliding_sum_at_index(i-1, lag):\n",
    "            s += 1\n",
    "    return s\n",
    "print(num_rises(1))\n",
    "print(num_rises(3))"
   ]
  },
  {
   "cell_type": "markdown",
   "id": "1f47e98c-7cd5-4000-bc52-65e4949d4abe",
   "metadata": {},
   "source": [
    "# Day 2 Part 1"
   ]
  },
  {
   "cell_type": "code",
   "execution_count": 4,
   "id": "73a997ed-f817-494f-9649-da0baae8c48e",
   "metadata": {},
   "outputs": [],
   "source": [
    "with open('day_2_input') as f:\n",
    "    lines = [l.rstrip() for l in f]"
   ]
  },
  {
   "cell_type": "code",
   "execution_count": 5,
   "id": "0d040c85-bee1-43ea-9e5c-9bf51872a32d",
   "metadata": {},
   "outputs": [
    {
     "data": {
      "text/plain": [
       "1451208"
      ]
     },
     "execution_count": 5,
     "metadata": {},
     "output_type": "execute_result"
    }
   ],
   "source": [
    "accumulator = {'forward': 0, 'depth': 0}\n",
    "for l in lines:\n",
    "    direction, quantity = l.split()\n",
    "    quantity = int(quantity)\n",
    "    match direction:\n",
    "        case 'forward':\n",
    "            multiplier = 1\n",
    "        case 'up':\n",
    "            multiplier = -1\n",
    "            direction = 'depth'\n",
    "        case 'down':\n",
    "            multiplier = 1\n",
    "            direction = 'depth'\n",
    "    accumulator[direction] += quantity * multiplier\n",
    "accumulator['forward'] * accumulator ['depth']"
   ]
  },
  {
   "cell_type": "markdown",
   "id": "9c2450f4-9dd1-4f18-afac-ffbb007bfbb5",
   "metadata": {},
   "source": [
    "# Day 2 Part 2"
   ]
  },
  {
   "cell_type": "code",
   "execution_count": 6,
   "id": "95b9adcc-7335-4745-a53b-0785053d98d9",
   "metadata": {},
   "outputs": [
    {
     "data": {
      "text/plain": [
       "1620141160"
      ]
     },
     "execution_count": 6,
     "metadata": {},
     "output_type": "execute_result"
    }
   ],
   "source": [
    "accumulator = {'forward': 0, 'depth': 0, 'aim': 0}\n",
    "for l in lines:\n",
    "    direction, quantity = l.split()\n",
    "    quantity = int(quantity)\n",
    "    match direction:\n",
    "        case 'forward':\n",
    "            accumulator['forward'] += quantity\n",
    "            accumulator['depth'] += quantity * accumulator['aim']\n",
    "        case 'up':\n",
    "            accumulator['aim'] += -1 * quantity\n",
    "        case 'down':\n",
    "            accumulator['aim'] += quantity\n",
    "accumulator['forward'] * accumulator ['depth']"
   ]
  },
  {
   "cell_type": "markdown",
   "id": "ee9e8e4b-e11a-4096-866c-2ae1a21baef7",
   "metadata": {},
   "source": [
    "# Day 3 Part 1"
   ]
  },
  {
   "cell_type": "code",
   "execution_count": 7,
   "id": "5fb540f6-8448-48a1-ad35-f34a5bbf9587",
   "metadata": {},
   "outputs": [],
   "source": [
    "with open('day_3_input') as f:\n",
    "    lines = [l.rstrip() for l in f]"
   ]
  },
  {
   "cell_type": "code",
   "execution_count": 8,
   "id": "be3b3394-9fe9-4053-be47-d46c82064d9b",
   "metadata": {},
   "outputs": [
    {
     "data": {
      "text/plain": [
       "775304"
      ]
     },
     "execution_count": 8,
     "metadata": {},
     "output_type": "execute_result"
    }
   ],
   "source": [
    "int(''.join([str(int(sum([int(l[i]) for l in lines])<500)) for i in range(12)]),2) * int(''.join([str(int(sum([int(l[i]) for l in lines])>500)) for i in range(12)]),2)"
   ]
  },
  {
   "cell_type": "markdown",
   "id": "9e764dd6-286d-46bf-b2b9-3a999939f80d",
   "metadata": {},
   "source": [
    "# Day 3 Part 2"
   ]
  },
  {
   "cell_type": "code",
   "execution_count": 9,
   "id": "741b5933-c4ea-4df3-a1e8-922bf595ec65",
   "metadata": {},
   "outputs": [
    {
     "data": {
      "text/plain": [
       "1370737"
      ]
     },
     "execution_count": 9,
     "metadata": {},
     "output_type": "execute_result"
    }
   ],
   "source": [
    "lc = lines.copy()\n",
    "for i in range(12):\n",
    "    lc = [l for l in lc if int(l[i])] if len([l for l in lc if int(l[i])])>=len([l for l in lc if not int(l[i])]) else [l for l in lc if not int(l[i])]\n",
    "    if len(lc) == 1 :\n",
    "        break\n",
    "n1 = int(lc[0],2)\n",
    "lc = lines.copy()\n",
    "for i in range(12):\n",
    "    lc = [l for l in lc if int(l[i])] if len([l for l in lc if int(l[i])])<len([l for l in lc if not int(l[i])]) else [l for l in lc if not int(l[i])]\n",
    "    if len(lc) == 1:\n",
    "        break\n",
    "n2 = int(lc[0],2)\n",
    "n2 * n1"
   ]
  },
  {
   "cell_type": "markdown",
   "id": "0b3ed1a5-5f71-45c3-b57e-7e067b1f6153",
   "metadata": {},
   "source": [
    "# Day 4 Part 1"
   ]
  },
  {
   "cell_type": "code",
   "execution_count": 10,
   "id": "c12d40e4-2fe9-46fe-87cf-22739855ff52",
   "metadata": {},
   "outputs": [],
   "source": [
    "with open('day_4_input') as f:\n",
    "    d4_input = f.read()\n",
    "inputs = d4_input.split('\\n\\n')\n",
    "numbers = inputs.pop(0)\n",
    "boards = inputs"
   ]
  },
  {
   "cell_type": "code",
   "execution_count": 11,
   "id": "e9412c94-b038-49b4-bad4-d117fe192dd3",
   "metadata": {},
   "outputs": [
    {
     "name": "stdout",
     "output_type": "stream",
     "text": [
      "First winner: 58374\n",
      "Last winner: 11377\n"
     ]
    }
   ],
   "source": [
    "def parse_board(board):\n",
    "    num_list = []\n",
    "    for irow, row in enumerate(board.split('\\n')):\n",
    "        for icol, num in enumerate(row.split()):\n",
    "            num_list.append(dict(num=num, irow=irow, icol=icol, marked=False))\n",
    "    return num_list\n",
    "def process_number(board, number):\n",
    "    new_list = []\n",
    "    for val in board:\n",
    "        if val['num'] == number:\n",
    "            new_list.append(dict(num=val['num'], irow=val['irow'], icol=val['icol'], marked=True))\n",
    "        else:\n",
    "            new_list.append(val)\n",
    "    return new_list\n",
    "def check_winning_condition(board):\n",
    "    column_marks = {k:0 for k in range(5)}\n",
    "    row_marks = {k:0 for k in range(5)}\n",
    "    for val in board:\n",
    "        if val['marked']:\n",
    "            column_marks[val['icol']] += 1\n",
    "            row_marks[val['irow']] += 1\n",
    "        if max(column_marks.values()) == 5 or max(row_marks.values()) == 5:\n",
    "            return True\n",
    "def score_board(board, num):\n",
    "    acc = 0\n",
    "    for val in board:\n",
    "        if not val['marked']:\n",
    "            acc += int(val['num'])\n",
    "    return acc * int(num)\n",
    "parsed_boards = [parse_board(b) for b in boards]\n",
    "winner = None\n",
    "winner_declared = False\n",
    "for n in numbers.split(','):\n",
    "    new_parsed_boards = []\n",
    "    for b in parsed_boards:\n",
    "        b = process_number(b, n)\n",
    "        if check_winning_condition(b):\n",
    "            winner = b\n",
    "        else:\n",
    "            new_parsed_boards.append(b)\n",
    "    if winner and not winner_declared:\n",
    "        print('First winner:', score_board(winner, n))\n",
    "        winner_declared = True\n",
    "    if not len(new_parsed_boards):\n",
    "        print('Last winner:', score_board(winner, n))\n",
    "        break\n",
    "    parsed_boards = new_parsed_boards"
   ]
  },
  {
   "cell_type": "code",
   "execution_count": null,
   "id": "3535ede6-e908-4538-9183-e5efd315deca",
   "metadata": {},
   "outputs": [],
   "source": []
  }
 ],
 "metadata": {
  "kernelspec": {
   "display_name": "Python 3 (ipykernel)",
   "language": "python",
   "name": "python3"
  },
  "language_info": {
   "codemirror_mode": {
    "name": "ipython",
    "version": 3
   },
   "file_extension": ".py",
   "mimetype": "text/x-python",
   "name": "python",
   "nbconvert_exporter": "python",
   "pygments_lexer": "ipython3",
   "version": "3.10.0"
  }
 },
 "nbformat": 4,
 "nbformat_minor": 5
}
